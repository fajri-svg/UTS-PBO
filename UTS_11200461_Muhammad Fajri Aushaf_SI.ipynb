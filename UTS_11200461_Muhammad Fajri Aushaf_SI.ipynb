{
  "nbformat": 4,
  "nbformat_minor": 0,
  "metadata": {
    "colab": {
      "name": "SOAL_UTS_SI.ipynb",
      "provenance": [],
      "collapsed_sections": []
    },
    "kernelspec": {
      "name": "python3",
      "display_name": "Python 3"
    },
    "language_info": {
      "name": "python"
    }
  },
  "cells": [
    {
      "cell_type": "markdown",
      "metadata": {
        "id": "207NNMC_vMNX"
      },
      "source": [
        "## Soal UTS I\n",
        "Buatlah Program dengan bahasa python untuk menampilkan nama dan NIM anda pada halaman notebook ini"
      ]
    },
    {
      "cell_type": "code",
      "metadata": {
        "id": "ayXUPo6SvaqJ"
      },
      "source": [
        "#Jawab"
      ],
      "execution_count": null,
      "outputs": []
    },
    {
      "cell_type": "markdown",
      "metadata": {
        "id": "txgZNIDhuEvS"
      },
      "source": [
        "## Soal UTS II\n",
        "\n",
        "\n",
        "Kerjakan salah satu dari dua soal berikut (Soal A atau B) sesuai dengan digit terakhir NIM anda.\n",
        "\n",
        "Jika Digit terakhir NIM anda adalah ganjil atau nol(0) kerjakanlan Soal A berikut ini\n",
        "\n",
        "**Soal A**\n",
        "\n",
        "Bualah aplikasi interaktif dengan pemrograman Python yang menerima input variable dari keyboard untuk mencari luas bangun datar lingkaran.\n",
        "\n",
        "Dengan tampilan sebagai berikut:\n",
        "```\n",
        "Masukan Diameter : \n",
        "Luas Lingkaran   :\n",
        "```\n",
        "Jika Digit terakhir NIM anda adalah genap kerjakanlan Soal B berikut ini \n",
        "\n",
        "**Soal B**\n",
        "\n",
        "Bualah aplikasi interaktif dengan pemrograman Python yang menerima input variable dari keyboard untuk mencari keliling bangun datar lingkaran.\n",
        "\n",
        "Dengan tampilan sebagai berikut:\n",
        "```\n",
        "Masukan Diameter : \n",
        "Keliling Lingkaran   :\n",
        "```"
      ]
    },
    {
      "cell_type": "markdown",
      "metadata": {
        "id": "L5pweWJ4vHe7"
      },
      "source": [
        ""
      ]
    },
    {
      "cell_type": "code",
      "metadata": {
        "id": "mJ2YcXznurKe",
        "colab": {
          "base_uri": "https://localhost:8080/"
        },
        "outputId": "29d0ccfd-9787-42ab-c319-5d5fa582ab36"
      },
      "source": [
        "#Jawab\n",
        "print (\"Menghitung Luas Lingkaran\")\n",
        "a=int(input(\"Masukkan diameter Lingkaran : \"))\n",
        "b=int(2)\n",
        "pembagian =a/b\n",
        "diameter = (pembagian)\n",
        "phi = 3.14\n",
        "luas =  phi * float(diameter) * float(diameter) \n",
        "print (\"Luas Lingkaran adalah\",luas)"
      ],
      "execution_count": 28,
      "outputs": [
        {
          "output_type": "stream",
          "name": "stdout",
          "text": [
            "Menghitung Luas Lingkaran\n",
            "Masukkan diameter Lingkaran : 28\n",
            "Luas Lingkaran adalah 615.44\n"
          ]
        }
      ]
    }
  ]
}